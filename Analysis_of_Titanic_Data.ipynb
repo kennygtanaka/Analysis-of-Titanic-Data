{
 "cells": [
  {
   "cell_type": "markdown",
   "metadata": {},
   "source": [
    "#Kentaro Tanaka Final Project"
   ]
  },
  {
   "cell_type": "code",
   "execution_count": 1,
   "metadata": {},
   "outputs": [],
   "source": [
    "#part 1\n",
    "import pandas as pd \n",
    "import matplotlib.pyplot as plot\n",
    "import seaborn as sns\n"
   ]
  },
  {
   "cell_type": "code",
   "execution_count": 2,
   "metadata": {},
   "outputs": [],
   "source": [
    "#create function \n",
    "\n",
    "def getDataFrame(set): \n",
    "    path = \"/Users/kenny/Downloads/passengers_\" + str(set) + \".csv\"\n",
    "    df = pd.read_csv(path)\n",
    "    set_column_data = [str(set)] * df.shape[0]\n",
    "    df[\"set\"] = set_column_data \n",
    "    df = df[[\"PassengerId\", \"Pclass\", \"Name\", \"Sex\", \"Age\", \"SibSp\", \"Parch\", \"Ticket\", \"Fare\", \"Cabin\"]]\n",
    "    return df"
   ]
  },
  {
   "cell_type": "code",
   "execution_count": 3,
   "metadata": {},
   "outputs": [
    {
     "name": "stdout",
     "output_type": "stream",
     "text": [
      "    PassengerId  Pclass                                          Name     Sex  \\\n",
      "0           892       3                              Kelly, Mr. James    male   \n",
      "1           893       3              Wilkes, Mrs. James (Ellen Needs)  female   \n",
      "2           894       2                     Myles, Mr. Thomas Francis    male   \n",
      "3           895       3                              Wirz, Mr. Albert    male   \n",
      "4           896       3  Hirvonen, Mrs. Alexander (Helga E Lindqvist)  female   \n",
      "..          ...     ...                                           ...     ...   \n",
      "13         1305       3                            Spector, Mr. Woolf    male   \n",
      "14         1306       1                  Oliva y Ocana, Dona. Fermina  female   \n",
      "15         1307       3                  Saether, Mr. Simon Sivertsen    male   \n",
      "16         1308       3                           Ware, Mr. Frederick    male   \n",
      "17         1309       3                      Peter, Master. Michael J    male   \n",
      "\n",
      "     Age  SibSp  Parch              Ticket      Fare Cabin  \n",
      "0   34.5      0      0              330911    7.8292   NaN  \n",
      "1   47.0      1      0              363272    7.0000   NaN  \n",
      "2   62.0      0      0              240276    9.6875   NaN  \n",
      "3   27.0      0      0              315154    8.6625   NaN  \n",
      "4   22.0      1      1             3101298   12.2875   NaN  \n",
      "..   ...    ...    ...                 ...       ...   ...  \n",
      "13   NaN      0      0           A.5. 3236    8.0500   NaN  \n",
      "14  39.0      0      0            PC 17758  108.9000  C105  \n",
      "15  38.5      0      0  SOTON/O.Q. 3101262    7.2500   NaN  \n",
      "16   NaN      0      0              359309    8.0500   NaN  \n",
      "17   NaN      1      1                2668   22.3583   NaN  \n",
      "\n",
      "[418 rows x 10 columns]\n"
     ]
    }
   ],
   "source": [
    "# merge first 5 data sets with similar columns by concatenation \n",
    "\n",
    "df1 = getDataFrame(1) \n",
    "\n",
    "df2 = getDataFrame(2)\n",
    "\n",
    "df3 = getDataFrame(3)\n",
    "\n",
    "df4 = getDataFrame(4) \n",
    "\n",
    "df5 = getDataFrame(5) \n",
    "\n",
    "df6 = pd.concat([df1,df2,df3,df4,df5])\n",
    "\n",
    "print(df6)"
   ]
  },
  {
   "cell_type": "code",
   "execution_count": 4,
   "metadata": {},
   "outputs": [
    {
     "name": "stdout",
     "output_type": "stream",
     "text": [
      "     PassengerId  Pclass                                          Name  \\\n",
      "0            892       3                              Kelly, Mr. James   \n",
      "1            893       3              Wilkes, Mrs. James (Ellen Needs)   \n",
      "2            894       2                     Myles, Mr. Thomas Francis   \n",
      "3            895       3                              Wirz, Mr. Albert   \n",
      "4            896       3  Hirvonen, Mrs. Alexander (Helga E Lindqvist)   \n",
      "..           ...     ...                                           ...   \n",
      "413         1305       3                            Spector, Mr. Woolf   \n",
      "414         1306       1                  Oliva y Ocana, Dona. Fermina   \n",
      "415         1307       3                  Saether, Mr. Simon Sivertsen   \n",
      "416         1308       3                           Ware, Mr. Frederick   \n",
      "417         1309       3                      Peter, Master. Michael J   \n",
      "\n",
      "        Sex   Age  SibSp  Parch              Ticket      Fare Cabin Embarked  \\\n",
      "0      male  34.5      0      0              330911    7.8292   NaN        Q   \n",
      "1    female  47.0      1      0              363272    7.0000   NaN        S   \n",
      "2      male  62.0      0      0              240276    9.6875   NaN        Q   \n",
      "3      male  27.0      0      0              315154    8.6625   NaN        S   \n",
      "4    female  22.0      1      1             3101298   12.2875   NaN        S   \n",
      "..      ...   ...    ...    ...                 ...       ...   ...      ...   \n",
      "413    male   NaN      0      0           A.5. 3236    8.0500   NaN        S   \n",
      "414  female  39.0      0      0            PC 17758  108.9000  C105        C   \n",
      "415    male  38.5      0      0  SOTON/O.Q. 3101262    7.2500   NaN        S   \n",
      "416    male   NaN      0      0              359309    8.0500   NaN        S   \n",
      "417    male   NaN      1      1                2668   22.3583   NaN        C   \n",
      "\n",
      "     Survived  \n",
      "0           0  \n",
      "1           1  \n",
      "2           0  \n",
      "3           0  \n",
      "4           1  \n",
      "..        ...  \n",
      "413         0  \n",
      "414         1  \n",
      "415         0  \n",
      "416         0  \n",
      "417         0  \n",
      "\n",
      "[418 rows x 12 columns]\n"
     ]
    }
   ],
   "source": [
    "#merge sixth file by merging dataframes\n",
    "\n",
    "path1 = \"/Users/kenny/Downloads/passengers_embarked_and_survived.csv\"\n",
    "\n",
    "df7 = pd.read_csv(path1)\n",
    "\n",
    "df8 = df6.merge (df7, how = \"left\", on = \"PassengerId\")\n",
    "\n",
    "print(df8)"
   ]
  },
  {
   "cell_type": "markdown",
   "metadata": {},
   "source": [
    "Part 1 Writeup: \n",
    "\n",
    "I first imported and combined the .csv files in a few steps. Firstly, I uploaded all the CSV files into my Jupyter Notebook's libarary. From there I referenced the data by inserting the link for each of the csv files. I then combined the first five data sets through concatenation since they all had the same column names and columns. From there I merged the sixth file by using a left join and adding two more columns for point of embarkment and whether they survived or not. An important takeaway from this I had is that data sets with the same column names are much easier to combine than ones without, since they can be combined in bulk (in this case all five of the first files at once). "
   ]
  },
  {
   "cell_type": "code",
   "execution_count": 5,
   "metadata": {},
   "outputs": [
    {
     "data": {
      "text/html": [
       "<div>\n",
       "<style scoped>\n",
       "    .dataframe tbody tr th:only-of-type {\n",
       "        vertical-align: middle;\n",
       "    }\n",
       "\n",
       "    .dataframe tbody tr th {\n",
       "        vertical-align: top;\n",
       "    }\n",
       "\n",
       "    .dataframe thead th {\n",
       "        text-align: right;\n",
       "    }\n",
       "</style>\n",
       "<table border=\"1\" class=\"dataframe\">\n",
       "  <thead>\n",
       "    <tr style=\"text-align: right;\">\n",
       "      <th></th>\n",
       "      <th>PassengerId</th>\n",
       "      <th>Pclass</th>\n",
       "      <th>Name</th>\n",
       "      <th>Sex</th>\n",
       "      <th>Age</th>\n",
       "      <th>SibSp</th>\n",
       "      <th>Parch</th>\n",
       "      <th>Ticket</th>\n",
       "      <th>Fare</th>\n",
       "      <th>Cabin</th>\n",
       "      <th>Embarked</th>\n",
       "      <th>Survived</th>\n",
       "    </tr>\n",
       "  </thead>\n",
       "  <tbody>\n",
       "    <tr>\n",
       "      <td>0</td>\n",
       "      <td>False</td>\n",
       "      <td>False</td>\n",
       "      <td>False</td>\n",
       "      <td>False</td>\n",
       "      <td>False</td>\n",
       "      <td>False</td>\n",
       "      <td>False</td>\n",
       "      <td>False</td>\n",
       "      <td>False</td>\n",
       "      <td>True</td>\n",
       "      <td>False</td>\n",
       "      <td>False</td>\n",
       "    </tr>\n",
       "    <tr>\n",
       "      <td>1</td>\n",
       "      <td>False</td>\n",
       "      <td>False</td>\n",
       "      <td>False</td>\n",
       "      <td>False</td>\n",
       "      <td>False</td>\n",
       "      <td>False</td>\n",
       "      <td>False</td>\n",
       "      <td>False</td>\n",
       "      <td>False</td>\n",
       "      <td>True</td>\n",
       "      <td>False</td>\n",
       "      <td>False</td>\n",
       "    </tr>\n",
       "    <tr>\n",
       "      <td>2</td>\n",
       "      <td>False</td>\n",
       "      <td>False</td>\n",
       "      <td>False</td>\n",
       "      <td>False</td>\n",
       "      <td>False</td>\n",
       "      <td>False</td>\n",
       "      <td>False</td>\n",
       "      <td>False</td>\n",
       "      <td>False</td>\n",
       "      <td>True</td>\n",
       "      <td>False</td>\n",
       "      <td>False</td>\n",
       "    </tr>\n",
       "    <tr>\n",
       "      <td>3</td>\n",
       "      <td>False</td>\n",
       "      <td>False</td>\n",
       "      <td>False</td>\n",
       "      <td>False</td>\n",
       "      <td>False</td>\n",
       "      <td>False</td>\n",
       "      <td>False</td>\n",
       "      <td>False</td>\n",
       "      <td>False</td>\n",
       "      <td>True</td>\n",
       "      <td>False</td>\n",
       "      <td>False</td>\n",
       "    </tr>\n",
       "    <tr>\n",
       "      <td>4</td>\n",
       "      <td>False</td>\n",
       "      <td>False</td>\n",
       "      <td>False</td>\n",
       "      <td>False</td>\n",
       "      <td>False</td>\n",
       "      <td>False</td>\n",
       "      <td>False</td>\n",
       "      <td>False</td>\n",
       "      <td>False</td>\n",
       "      <td>True</td>\n",
       "      <td>False</td>\n",
       "      <td>False</td>\n",
       "    </tr>\n",
       "    <tr>\n",
       "      <td>...</td>\n",
       "      <td>...</td>\n",
       "      <td>...</td>\n",
       "      <td>...</td>\n",
       "      <td>...</td>\n",
       "      <td>...</td>\n",
       "      <td>...</td>\n",
       "      <td>...</td>\n",
       "      <td>...</td>\n",
       "      <td>...</td>\n",
       "      <td>...</td>\n",
       "      <td>...</td>\n",
       "      <td>...</td>\n",
       "    </tr>\n",
       "    <tr>\n",
       "      <td>413</td>\n",
       "      <td>False</td>\n",
       "      <td>False</td>\n",
       "      <td>False</td>\n",
       "      <td>False</td>\n",
       "      <td>True</td>\n",
       "      <td>False</td>\n",
       "      <td>False</td>\n",
       "      <td>False</td>\n",
       "      <td>False</td>\n",
       "      <td>True</td>\n",
       "      <td>False</td>\n",
       "      <td>False</td>\n",
       "    </tr>\n",
       "    <tr>\n",
       "      <td>414</td>\n",
       "      <td>False</td>\n",
       "      <td>False</td>\n",
       "      <td>False</td>\n",
       "      <td>False</td>\n",
       "      <td>False</td>\n",
       "      <td>False</td>\n",
       "      <td>False</td>\n",
       "      <td>False</td>\n",
       "      <td>False</td>\n",
       "      <td>False</td>\n",
       "      <td>False</td>\n",
       "      <td>False</td>\n",
       "    </tr>\n",
       "    <tr>\n",
       "      <td>415</td>\n",
       "      <td>False</td>\n",
       "      <td>False</td>\n",
       "      <td>False</td>\n",
       "      <td>False</td>\n",
       "      <td>False</td>\n",
       "      <td>False</td>\n",
       "      <td>False</td>\n",
       "      <td>False</td>\n",
       "      <td>False</td>\n",
       "      <td>True</td>\n",
       "      <td>False</td>\n",
       "      <td>False</td>\n",
       "    </tr>\n",
       "    <tr>\n",
       "      <td>416</td>\n",
       "      <td>False</td>\n",
       "      <td>False</td>\n",
       "      <td>False</td>\n",
       "      <td>False</td>\n",
       "      <td>True</td>\n",
       "      <td>False</td>\n",
       "      <td>False</td>\n",
       "      <td>False</td>\n",
       "      <td>False</td>\n",
       "      <td>True</td>\n",
       "      <td>False</td>\n",
       "      <td>False</td>\n",
       "    </tr>\n",
       "    <tr>\n",
       "      <td>417</td>\n",
       "      <td>False</td>\n",
       "      <td>False</td>\n",
       "      <td>False</td>\n",
       "      <td>False</td>\n",
       "      <td>True</td>\n",
       "      <td>False</td>\n",
       "      <td>False</td>\n",
       "      <td>False</td>\n",
       "      <td>False</td>\n",
       "      <td>True</td>\n",
       "      <td>False</td>\n",
       "      <td>False</td>\n",
       "    </tr>\n",
       "  </tbody>\n",
       "</table>\n",
       "<p>418 rows × 12 columns</p>\n",
       "</div>"
      ],
      "text/plain": [
       "     PassengerId  Pclass   Name    Sex    Age  SibSp  Parch  Ticket   Fare  \\\n",
       "0          False   False  False  False  False  False  False   False  False   \n",
       "1          False   False  False  False  False  False  False   False  False   \n",
       "2          False   False  False  False  False  False  False   False  False   \n",
       "3          False   False  False  False  False  False  False   False  False   \n",
       "4          False   False  False  False  False  False  False   False  False   \n",
       "..           ...     ...    ...    ...    ...    ...    ...     ...    ...   \n",
       "413        False   False  False  False   True  False  False   False  False   \n",
       "414        False   False  False  False  False  False  False   False  False   \n",
       "415        False   False  False  False  False  False  False   False  False   \n",
       "416        False   False  False  False   True  False  False   False  False   \n",
       "417        False   False  False  False   True  False  False   False  False   \n",
       "\n",
       "     Cabin  Embarked  Survived  \n",
       "0     True     False     False  \n",
       "1     True     False     False  \n",
       "2     True     False     False  \n",
       "3     True     False     False  \n",
       "4     True     False     False  \n",
       "..     ...       ...       ...  \n",
       "413   True     False     False  \n",
       "414  False     False     False  \n",
       "415   True     False     False  \n",
       "416   True     False     False  \n",
       "417   True     False     False  \n",
       "\n",
       "[418 rows x 12 columns]"
      ]
     },
     "execution_count": 5,
     "metadata": {},
     "output_type": "execute_result"
    }
   ],
   "source": [
    "#part 2\n",
    "#1. find missing values \n",
    "df8.isnull()\n"
   ]
  },
  {
   "cell_type": "code",
   "execution_count": 6,
   "metadata": {},
   "outputs": [
    {
     "name": "stdout",
     "output_type": "stream",
     "text": [
      "30.272590361445783\n",
      "14.18120923562442\n"
     ]
    }
   ],
   "source": [
    "#2. Mean and standard deviation of age \n",
    "print(df8[\"Age\"].mean())\n",
    "print(df8[\"Age\"].std())"
   ]
  },
  {
   "cell_type": "code",
   "execution_count": 7,
   "metadata": {},
   "outputs": [
    {
     "name": "stdout",
     "output_type": "stream",
     "text": [
      "0.17\n",
      "76.0\n"
     ]
    }
   ],
   "source": [
    "#3. Min and Max values of age\n",
    "print(df8[\"Age\"].min())\n",
    "print(df8[\"Age\"].max())"
   ]
  },
  {
   "cell_type": "code",
   "execution_count": 8,
   "metadata": {},
   "outputs": [
    {
     "name": "stdout",
     "output_type": "stream",
     "text": [
      "152\n"
     ]
    }
   ],
   "source": [
    "#4. Sum of Survivors \n",
    "print(df8[\"Survived\"].sum())"
   ]
  },
  {
   "cell_type": "code",
   "execution_count": 9,
   "metadata": {},
   "outputs": [
    {
     "name": "stdout",
     "output_type": "stream",
     "text": [
      "418\n"
     ]
    }
   ],
   "source": [
    "#5. Number of Passengers \n",
    "print(df8[\"PassengerId\"].count())"
   ]
  },
  {
   "cell_type": "markdown",
   "metadata": {},
   "source": [
    "Part 2 Writeup: \n",
    "Here I decided to use a few different metrics to explore the data. Firstly, I looked at how many null values there are in the data set. By using this, I can see if the data set is complete, and if analysis can be done with all data available. After this I looked into the mean and standard deviation of the age. The mean was around 30 years old and the standard deviation was 14.2. This tells me that there are many middle-aged adults as a part of this data set. Next I looked into the minimum and maximum age, and found out that the oldest person onboard was 76 years old and the youngest was a baby that wasn't even one years old yet. From there I looked atthe total number of passengers and the total number of passengers who survived to get an idea of how many passengers were onboard and how many were able to survive. All of these metrics gave me a basic idea of the type of data I am working with and the numbers that I can expect when I do analysis on different factors. For example, if I do an analysis on age and there are a large amount of older or younger people, I can tell that something is wrong with my analysis since the mean age is 30 and the standard deviation is 15. "
   ]
  },
  {
   "cell_type": "code",
   "execution_count": 10,
   "metadata": {},
   "outputs": [
    {
     "name": "stdout",
     "output_type": "stream",
     "text": [
      "     PassengerId  Passenger Class  \\\n",
      "0            892                3   \n",
      "1            893                3   \n",
      "2            894                2   \n",
      "3            895                3   \n",
      "4            896                3   \n",
      "..           ...              ...   \n",
      "413         1305                3   \n",
      "414         1306                1   \n",
      "415         1307                3   \n",
      "416         1308                3   \n",
      "417         1309                3   \n",
      "\n",
      "                                             Name     Sex   Age  \\\n",
      "0                                Kelly, Mr. James    male  34.5   \n",
      "1                Wilkes, Mrs. James (Ellen Needs)  female  47.0   \n",
      "2                       Myles, Mr. Thomas Francis    male  62.0   \n",
      "3                                Wirz, Mr. Albert    male  27.0   \n",
      "4    Hirvonen, Mrs. Alexander (Helga E Lindqvist)  female  22.0   \n",
      "..                                            ...     ...   ...   \n",
      "413                            Spector, Mr. Woolf    male   NaN   \n",
      "414                  Oliva y Ocana, Dona. Fermina  female  39.0   \n",
      "415                  Saether, Mr. Simon Sivertsen    male  38.5   \n",
      "416                           Ware, Mr. Frederick    male   NaN   \n",
      "417                      Peter, Master. Michael J    male   NaN   \n",
      "\n",
      "     Siblings and Spouses  Parents and Children              Ticket      Fare  \\\n",
      "0                       0                     0              330911    7.8292   \n",
      "1                       1                     0              363272    7.0000   \n",
      "2                       0                     0              240276    9.6875   \n",
      "3                       0                     0              315154    8.6625   \n",
      "4                       1                     1             3101298   12.2875   \n",
      "..                    ...                   ...                 ...       ...   \n",
      "413                     0                     0           A.5. 3236    8.0500   \n",
      "414                     0                     0            PC 17758  108.9000   \n",
      "415                     0                     0  SOTON/O.Q. 3101262    7.2500   \n",
      "416                     0                     0              359309    8.0500   \n",
      "417                     1                     1                2668   22.3583   \n",
      "\n",
      "    Cabin Embarked  Survived  \n",
      "0     NaN        Q         0  \n",
      "1     NaN        S         1  \n",
      "2     NaN        Q         0  \n",
      "3     NaN        S         0  \n",
      "4     NaN        S         1  \n",
      "..    ...      ...       ...  \n",
      "413   NaN        S         0  \n",
      "414  C105        C         1  \n",
      "415   NaN        S         0  \n",
      "416   NaN        S         0  \n",
      "417   NaN        C         0  \n",
      "\n",
      "[418 rows x 12 columns]\n"
     ]
    }
   ],
   "source": [
    "#part 3 \n",
    "\n",
    "#1. rename columns \n",
    "\n",
    "df9 = df8.rename (columns = { \"Pclass\":\"Passenger Class\", \"SibSp\":\"Siblings and Spouses\", \"Parch\":\"Parents and Children\"})\n",
    "print(df9)"
   ]
  },
  {
   "cell_type": "code",
   "execution_count": 11,
   "metadata": {},
   "outputs": [
    {
     "name": "stdout",
     "output_type": "stream",
     "text": [
      "     PassengerId  Passenger Class  \\\n",
      "0            892                3   \n",
      "1            893                3   \n",
      "2            894                2   \n",
      "3            895                3   \n",
      "4            896                3   \n",
      "..           ...              ...   \n",
      "413         1305                3   \n",
      "414         1306                1   \n",
      "415         1307                3   \n",
      "416         1308                3   \n",
      "417         1309                3   \n",
      "\n",
      "                                             Name     Sex   Age  \\\n",
      "0                                Kelly, Mr. James    male  34.5   \n",
      "1                Wilkes, Mrs. James (Ellen Needs)  female  47.0   \n",
      "2                       Myles, Mr. Thomas Francis    male  62.0   \n",
      "3                                Wirz, Mr. Albert    male  27.0   \n",
      "4    Hirvonen, Mrs. Alexander (Helga E Lindqvist)  female  22.0   \n",
      "..                                            ...     ...   ...   \n",
      "413                            Spector, Mr. Woolf    male   0.0   \n",
      "414                  Oliva y Ocana, Dona. Fermina  female  39.0   \n",
      "415                  Saether, Mr. Simon Sivertsen    male  38.5   \n",
      "416                           Ware, Mr. Frederick    male   0.0   \n",
      "417                      Peter, Master. Michael J    male   0.0   \n",
      "\n",
      "     Siblings and Spouses  Parents and Children              Ticket      Fare  \\\n",
      "0                       0                     0              330911    7.8292   \n",
      "1                       1                     0              363272    7.0000   \n",
      "2                       0                     0              240276    9.6875   \n",
      "3                       0                     0              315154    8.6625   \n",
      "4                       1                     1             3101298   12.2875   \n",
      "..                    ...                   ...                 ...       ...   \n",
      "413                     0                     0           A.5. 3236    8.0500   \n",
      "414                     0                     0            PC 17758  108.9000   \n",
      "415                     0                     0  SOTON/O.Q. 3101262    7.2500   \n",
      "416                     0                     0              359309    8.0500   \n",
      "417                     1                     1                2668   22.3583   \n",
      "\n",
      "    Cabin Embarked  Survived  \n",
      "0     NaN        Q         0  \n",
      "1     NaN        S         1  \n",
      "2     NaN        Q         0  \n",
      "3     NaN        S         0  \n",
      "4     NaN        S         1  \n",
      "..    ...      ...       ...  \n",
      "413   NaN        S         0  \n",
      "414  C105        C         1  \n",
      "415   NaN        S         0  \n",
      "416   NaN        S         0  \n",
      "417   NaN        C         0  \n",
      "\n",
      "[418 rows x 12 columns]\n"
     ]
    }
   ],
   "source": [
    "#2. Changing Age column null values to 0 \n",
    "df9.loc[df9[\"Age\"].isnull(), \"Age\"] = 0\n",
    "print(df9)\n"
   ]
  },
  {
   "cell_type": "code",
   "execution_count": 12,
   "metadata": {},
   "outputs": [
    {
     "name": "stdout",
     "output_type": "stream",
     "text": [
      "     PassengerId  Passenger Class     Sex   Age  Siblings and Spouses  \\\n",
      "0            892                3    male  34.5                     0   \n",
      "1            893                3  female  47.0                     1   \n",
      "2            894                2    male  62.0                     0   \n",
      "3            895                3    male  27.0                     0   \n",
      "4            896                3  female  22.0                     1   \n",
      "..           ...              ...     ...   ...                   ...   \n",
      "413         1305                3    male   0.0                     0   \n",
      "414         1306                1  female  39.0                     0   \n",
      "415         1307                3    male  38.5                     0   \n",
      "416         1308                3    male   0.0                     0   \n",
      "417         1309                3    male   0.0                     1   \n",
      "\n",
      "     Parents and Children      Fare Embarked  Survived  \n",
      "0                       0    7.8292        Q         0  \n",
      "1                       0    7.0000        S         1  \n",
      "2                       0    9.6875        Q         0  \n",
      "3                       0    8.6625        S         0  \n",
      "4                       1   12.2875        S         1  \n",
      "..                    ...       ...      ...       ...  \n",
      "413                     0    8.0500        S         0  \n",
      "414                     0  108.9000        C         1  \n",
      "415                     0    7.2500        S         0  \n",
      "416                     0    8.0500        S         0  \n",
      "417                     1   22.3583        C         0  \n",
      "\n",
      "[418 rows x 9 columns]\n"
     ]
    }
   ],
   "source": [
    "#3 Selecting columns for analysis \n",
    "df10 = (df9 [[\"PassengerId\",\"Passenger Class\", \"Sex\", \"Age\", \"Siblings and Spouses\", \"Parents and Children\", \"Fare\", \"Embarked\", \"Survived\"]])\n",
    "print(df10)"
   ]
  },
  {
   "cell_type": "markdown",
   "metadata": {},
   "source": [
    "Part 3 Writeup: \n",
    "\n",
    "In this part, I manipulated the data so that it would be ready for analysis. The first manipulation I did was rename some of the column names to make them clearer. Personally I did not know what the columns meant until I read the guide. This means that some of the column names can definitely be renamed for easier understanding. Next, I replaced the null values in the age column to zero. By replacing them to zero when analysis is done on them, it would be done with a number and proper values will be calculated and outputted. Lastly I selected only the columns that I will be using for analysis, which are all the metric unit columns along with sex, and embarked location. By lowering the amount of columns available the data set is now ready for analysis and any excess columns are not included. "
   ]
  },
  {
   "cell_type": "code",
   "execution_count": 13,
   "metadata": {},
   "outputs": [
    {
     "name": "stdout",
     "output_type": "stream",
     "text": [
      "1.0\n",
      "0.0\n"
     ]
    }
   ],
   "source": [
    "#Part 4 \n",
    "#1. Men/Women \n",
    "\n",
    "condition1 = df10[\"Sex\"] == \"male\"\n",
    "condition2 = df10[\"Sex\"] == \"female\"\n",
    "condition3 = df10[\"Survived\"] == 1\n",
    "\n",
    "\n",
    "df11 = df10[condition2 & condition3].count()\n",
    "\n",
    "df12 = df10[condition1 & condition3].count()\n",
    "\n",
    "df13 = df10[condition3].count()\n",
    "    \n",
    "\n",
    "print(df11[\"PassengerId\"]/df13[\"PassengerId\"])\n",
    "\n",
    "print(df12[\"PassengerId\"]/df13[\"PassengerId\"])\n"
   ]
  },
  {
   "cell_type": "code",
   "execution_count": 14,
   "metadata": {},
   "outputs": [
    {
     "name": "stdout",
     "output_type": "stream",
     "text": [
      "0.3684210526315789\n",
      "0.631578947368421\n"
     ]
    }
   ],
   "source": [
    "#2. By Age\n",
    "condition4 = df10[\"Age\"] >= 30 \n",
    "condition5 = df10[\"Age\"] < 30 \n",
    "\n",
    "df14 = df10[condition4 & condition3].count()\n",
    "df15 = df10[condition5 & condition3].count()\n",
    "\n",
    "print(df14[\"PassengerId\"]/df13[\"PassengerId\"])\n",
    "print(df15[\"PassengerId\"]/df13[\"PassengerId\"])\n"
   ]
  },
  {
   "cell_type": "code",
   "execution_count": 15,
   "metadata": {},
   "outputs": [
    {
     "name": "stdout",
     "output_type": "stream",
     "text": [
      "0.47368421052631576\n",
      "0.19736842105263158\n",
      "0.32894736842105265\n"
     ]
    }
   ],
   "source": [
    "#3. By Passenger Class of Ticket \n",
    "\n",
    "condition6 = df10[\"Passenger Class\"] == 3\n",
    "condition7 = df10[\"Passenger Class\"] == 2 \n",
    "condition8 = df10[\"Passenger Class\"] == 1 \n",
    "\n",
    "df16 = df10[condition6 & condition3].count()\n",
    "df17 = df10[condition7 & condition3].count()\n",
    "df18 = df10[condition8 & condition3].count() \n",
    "\n",
    "print(df16[\"PassengerId\"]/df13[\"PassengerId\"])\n",
    "print(df17[\"PassengerId\"]/df13[\"PassengerId\"])\n",
    "print(df18[\"PassengerId\"]/df13[\"PassengerId\"])\n"
   ]
  },
  {
   "cell_type": "markdown",
   "metadata": {},
   "source": [
    "Part 4 Writeup: \n",
    "\n",
    "Analysis #1: I chose share of men who survived and the share of women who survived because I thought this was an important metric to determine the geographic of the people who survived. The results suggest this even further with 100 % of women surviving and an astonishing 0% of men surviving. At first I thought there was something wrong with my analysis, but the actual reality was that no men survived.The process that I took was fairly simple. I first got the total count of men who survived and the total count of women who survived then divided them by the total number of men and the total number of women respectively to end with the total percent of each gender that survived. \n",
    "\n",
    "Analysis #2: For my second analysis I decided to get the percentage of people over the age of 30 that survived, and the percent of people 30 or under that survived. I wasn't surprised to see that a higher percentage (65.15%) of people over the age of 30 survive, since under 30 include all the minors that were on the ship also. I would presume that adults have a higher chance to survive in a disaster than children. \n",
    "\n",
    "Analysis #3: Lastly, I did an analysis on the class of the passenger and the survival rate. I would think that the classes are in different locations (higher in the boat or lower in the boat), therefore the survival rate would be quite different for each class. Which, turns out they were, with class two having the lowest survival rate of 19.7%. This differed greatly from class 1 which had a 47.37% of survival, the class must have been in a location that was easy for people to escape or get to safety during the disaster. Class 3 was in the middle with 32.89%."
   ]
  },
  {
   "cell_type": "code",
   "execution_count": 16,
   "metadata": {},
   "outputs": [
    {
     "data": {
      "text/plain": [
       "Text(0, 0.5, 'Fare')"
      ]
     },
     "execution_count": 16,
     "metadata": {},
     "output_type": "execute_result"
    },
    {
     "data": {
      "image/png": "[encoded data removed]",
      "text/plain": [
       "<Figure size 1440x720 with 1 Axes>"
      ]
     },
     "metadata": {
      "needs_background": "light"
     },
     "output_type": "display_data"
    }
   ],
   "source": [
    "#Part 5\n",
    "#1. Age vs. Fare \n",
    "\n",
    "figure, axis = plot.subplots(figsize = (20, 10))\n",
    "\n",
    "axis.bar(df10[\"Age\"], df10[\"Fare\"])\n",
    "\n",
    "axis.set_title (\"Age vs. Fare\")\n",
    "axis.set_xlabel (\"Age\")\n",
    "axis.set_ylabel (\"Fare\")"
   ]
  },
  {
   "cell_type": "code",
   "execution_count": 17,
   "metadata": {},
   "outputs": [
    {
     "data": {
      "text/plain": [
       "Text(0, 0.5, 'Sex')"
      ]
     },
     "execution_count": 17,
     "metadata": {},
     "output_type": "execute_result"
    },
    {
     "data": {
      "image/png": "[encoded data removed]",
      "text/plain": [
       "<Figure size 720x360 with 1 Axes>"
      ]
     },
     "metadata": {
      "needs_background": "light"
     },
     "output_type": "display_data"
    }
   ],
   "source": [
    "#2. Sex vs. Age (Distribution)\n",
    "\n",
    "figure, axis = plot.subplots(figsize = (10, 5))\n",
    "\n",
    "axis.scatter(df10[\"Age\"], df10[\"Sex\"])\n",
    "\n",
    "axis.set_title (\"Age vs. Sex\")\n",
    "axis.set_xlabel (\"Age\")\n",
    "axis.set_ylabel (\"Sex\")\n"
   ]
  },
  {
   "cell_type": "code",
   "execution_count": 18,
   "metadata": {},
   "outputs": [
    {
     "data": {
      "text/plain": [
       "Text(0, 0.5, 'Age')"
      ]
     },
     "execution_count": 18,
     "metadata": {},
     "output_type": "execute_result"
    },
    {
     "data": {
      "image/png": "[encoded data removed]",
      "text/plain": [
       "<Figure size 1440x1080 with 1 Axes>"
      ]
     },
     "metadata": {
      "needs_background": "light"
     },
     "output_type": "display_data"
    }
   ],
   "source": [
    "#3 Scatterplot: Point of Embarkment vs. Age (Distribution)\n",
    "\n",
    "figure, axis = plot.subplots(figsize = (20, 15))\n",
    "\n",
    "axis.scatter(df10[\"Embarked\"], df10[\"Age\"])\n",
    "\n",
    "axis.set_title (\"Embarked vs. Age\")\n",
    "axis.set_xlabel (\"Embarked\")\n",
    "axis.set_ylabel (\"Age\")"
   ]
  },
  {
   "cell_type": "markdown",
   "metadata": {},
   "source": [
    "Part 5 Writeup: \n",
    "\n",
    "In Part 5 I wanted to try using two different kinds of visualizations. I wanted to try using the line plot also, but since there was no time series data to work with, I stuck with bar plot and scatter plots. For the first plot, it can be shown that there was an outlier in fair, for the age of around 58, the fair jumped up suddenly for that age. Another insight is the fair generally lessened as the age got younger. In the next plot, I compared sex to age, and one insight that can be taken away from it, is that the male age range is higher than that of the females. Also the values are much more spread out for males, while female ages tended to be mainly between 15-50 years old. For the last plot I did point embarked vs age. Here it can be seen that the age range for people embarked from Cherbourg was higher than that of Queenstown. People embarking from Queenstown were fairly young compared to embarkments from other locations. I mainly used scatterplots to illustrate the distribution of age. For bar charts, it was harder to see the distribution of multiple x values. "
   ]
  }
 ],
 "metadata": {
  "kernelspec": {
   "display_name": "Python 3",
   "language": "python",
   "name": "python3"
  },
  "language_info": {
   "codemirror_mode": {
    "name": "ipython",
    "version": 3
   },
   "file_extension": ".py",
   "mimetype": "text/x-python",
   "name": "python",
   "nbconvert_exporter": "python",
   "pygments_lexer": "ipython3",
   "version": "3.7.4"
  }
 },
 "nbformat": 4,
 "nbformat_minor": 2
}
